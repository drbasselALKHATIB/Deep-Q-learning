{
 "cells": [
  {
   "cell_type": "code",
   "execution_count": 24,
   "metadata": {
    "colab": {
     "base_uri": "https://localhost:8080/",
     "height": 63
    },
    "colab_type": "code",
    "id": "ms0B7dnLHJTc",
    "outputId": "ad1df245-fdbc-44ac-8356-a16c68905a97"
   },
   "outputs": [
    {
     "name": "stdout",
     "output_type": "stream",
     "text": [
      "Defaulting to user installation because normal site-packages is not writeable\n",
      "Requirement already satisfied: keras==2.6.* in c:\\users\\asus\\appdata\\roaming\\python\\python38\\site-packages (2.6.0)\n"
     ]
    },
    {
     "name": "stderr",
     "output_type": "stream",
     "text": [
      "WARNING: You are using pip version 21.2.4; however, version 21.3.1 is available.\n",
      "You should consider upgrading via the 'c:\\program files\\python38\\python.exe -m pip install --upgrade pip' command.\n"
     ]
    },
    {
     "name": "stdout",
     "output_type": "stream",
     "text": [
      "Defaulting to user installation because normal site-packages is not writeable\n",
      "Requirement already satisfied: gym[all] in c:\\users\\asus\\appdata\\roaming\\python\\python38\\site-packages (0.19.0)\n",
      "Requirement already satisfied: numpy>=1.18.0 in c:\\users\\asus\\appdata\\roaming\\python\\python38\\site-packages (from gym[all]) (1.19.5)\n",
      "Requirement already satisfied: cloudpickle<1.7.0,>=1.2.0 in c:\\users\\asus\\appdata\\roaming\\python\\python38\\site-packages (from gym[all]) (1.6.0)\n",
      "Collecting box2d-py~=2.3.5\n",
      "  Using cached box2d-py-2.3.8.tar.gz (374 kB)\n",
      "Collecting mujoco-py<2.0,>=1.50\n",
      "  Using cached mujoco-py-1.50.1.68.tar.gz (120 kB)\n",
      "Requirement already satisfied: pyglet>=1.4.0 in c:\\users\\asus\\appdata\\roaming\\python\\python38\\site-packages (from gym[all]) (1.5.21)\n",
      "Requirement already satisfied: opencv-python>=3. in c:\\users\\asus\\appdata\\roaming\\python\\python38\\site-packages (from gym[all]) (4.5.3.56)\n",
      "Requirement already satisfied: scipy in c:\\users\\asus\\appdata\\roaming\\python\\python38\\site-packages (from gym[all]) (1.6.3)\n",
      "Requirement already satisfied: imageio in c:\\program files\\python38\\lib\\site-packages (from gym[all]) (2.9.0)\n",
      "Requirement already satisfied: atari-py==0.2.6 in c:\\users\\asus\\appdata\\roaming\\python\\python38\\site-packages (from gym[all]) (0.2.6)\n",
      "Requirement already satisfied: six in c:\\users\\asus\\appdata\\roaming\\python\\python38\\site-packages (from atari-py==0.2.6->gym[all]) (1.15.0)\n",
      "Requirement already satisfied: glfw>=1.4.0 in c:\\users\\asus\\appdata\\roaming\\python\\python38\\site-packages (from mujoco-py<2.0,>=1.50->gym[all]) (2.4.0)\n",
      "Requirement already satisfied: Cython>=0.27.2 in c:\\users\\asus\\appdata\\roaming\\python\\python38\\site-packages (from mujoco-py<2.0,>=1.50->gym[all]) (0.29.21)\n",
      "Requirement already satisfied: cffi>=1.10 in c:\\users\\asus\\appdata\\roaming\\python\\python38\\site-packages (from mujoco-py<2.0,>=1.50->gym[all]) (1.15.0)\n",
      "Requirement already satisfied: lockfile>=0.12.2 in c:\\users\\asus\\appdata\\roaming\\python\\python38\\site-packages (from mujoco-py<2.0,>=1.50->gym[all]) (0.12.2)\n",
      "Requirement already satisfied: pycparser in c:\\users\\asus\\appdata\\roaming\\python\\python38\\site-packages (from cffi>=1.10->mujoco-py<2.0,>=1.50->gym[all]) (2.21)\n",
      "Requirement already satisfied: pillow in c:\\users\\asus\\appdata\\roaming\\python\\python38\\site-packages (from imageio->gym[all]) (8.1.2)\n",
      "Building wheels for collected packages: box2d-py, mujoco-py\n",
      "  Building wheel for box2d-py (setup.py): started\n",
      "  Building wheel for box2d-py (setup.py): finished with status 'error'\n",
      "  Running setup.py clean for box2d-py\n",
      "  Building wheel for mujoco-py (setup.py): started\n",
      "  Building wheel for mujoco-py (setup.py): finished with status 'error'\n",
      "  Running setup.py clean for mujoco-py\n",
      "Failed to build box2d-py mujoco-py\n",
      "Installing collected packages: mujoco-py, box2d-py\n",
      "    Running setup.py install for mujoco-py: started\n",
      "    Running setup.py install for mujoco-py: finished with status 'error'\n"
     ]
    },
    {
     "name": "stderr",
     "output_type": "stream",
     "text": [
      "  ERROR: Command errored out with exit status 1:\n",
      "   command: 'c:\\program files\\python38\\python.exe' -u -c 'import io, os, sys, setuptools, tokenize; sys.argv[0] = '\"'\"'C:\\\\Users\\\\ASUS\\\\AppData\\\\Local\\\\Temp\\\\pip-install-a9doixbp\\\\box2d-py_8571d31cd0044d57a466702bf5681634\\\\setup.py'\"'\"'; __file__='\"'\"'C:\\\\Users\\\\ASUS\\\\AppData\\\\Local\\\\Temp\\\\pip-install-a9doixbp\\\\box2d-py_8571d31cd0044d57a466702bf5681634\\\\setup.py'\"'\"';f = getattr(tokenize, '\"'\"'open'\"'\"', open)(__file__) if os.path.exists(__file__) else io.StringIO('\"'\"'from setuptools import setup; setup()'\"'\"');code = f.read().replace('\"'\"'\\r\\n'\"'\"', '\"'\"'\\n'\"'\"');f.close();exec(compile(code, __file__, '\"'\"'exec'\"'\"'))' bdist_wheel -d 'C:\\Users\\ASUS\\AppData\\Local\\Temp\\pip-wheel-4r0n5p2b'\n",
      "       cwd: C:\\Users\\ASUS\\AppData\\Local\\Temp\\pip-install-a9doixbp\\box2d-py_8571d31cd0044d57a466702bf5681634\\\n",
      "  Complete output (16 lines):\n",
      "  Using setuptools (version 59.2.0).\n",
      "  running bdist_wheel\n",
      "  running build\n",
      "  running build_py\n",
      "  creating build\n",
      "  creating build\\lib.win-amd64-3.8\n",
      "  creating build\\lib.win-amd64-3.8\\Box2D\n",
      "  copying library\\Box2D\\Box2D.py -> build\\lib.win-amd64-3.8\\Box2D\n",
      "  copying library\\Box2D\\__init__.py -> build\\lib.win-amd64-3.8\\Box2D\n",
      "  creating build\\lib.win-amd64-3.8\\Box2D\\b2\n",
      "  copying library\\Box2D\\b2\\__init__.py -> build\\lib.win-amd64-3.8\\Box2D\\b2\n",
      "  running build_ext\n",
      "  building 'Box2D._Box2D' extension\n",
      "  swigging Box2D\\Box2D.i to Box2D\\Box2D_wrap.cpp\n",
      "  swig.exe -python -c++ -IBox2D -small -O -includeall -ignoremissing -w201 -globals b2Globals -outdir library\\Box2D -keyword -w511 -D_SWIG_KWARGS -o Box2D\\Box2D_wrap.cpp Box2D\\Box2D.i\n",
      "  error: command 'swig.exe' failed: No such file or directory\n",
      "  ----------------------------------------\n",
      "  ERROR: Failed building wheel for box2d-py\n",
      "  ERROR: Command errored out with exit status 1:\n",
      "   command: 'c:\\program files\\python38\\python.exe' -u -c 'import io, os, sys, setuptools, tokenize; sys.argv[0] = '\"'\"'C:\\\\Users\\\\ASUS\\\\AppData\\\\Local\\\\Temp\\\\pip-install-a9doixbp\\\\mujoco-py_a0c5816a1c274a2398a45eff6b832b6c\\\\setup.py'\"'\"'; __file__='\"'\"'C:\\\\Users\\\\ASUS\\\\AppData\\\\Local\\\\Temp\\\\pip-install-a9doixbp\\\\mujoco-py_a0c5816a1c274a2398a45eff6b832b6c\\\\setup.py'\"'\"';f = getattr(tokenize, '\"'\"'open'\"'\"', open)(__file__) if os.path.exists(__file__) else io.StringIO('\"'\"'from setuptools import setup; setup()'\"'\"');code = f.read().replace('\"'\"'\\r\\n'\"'\"', '\"'\"'\\n'\"'\"');f.close();exec(compile(code, __file__, '\"'\"'exec'\"'\"'))' bdist_wheel -d 'C:\\Users\\ASUS\\AppData\\Local\\Temp\\pip-wheel-ztlzoezz'\n",
      "       cwd: C:\\Users\\ASUS\\AppData\\Local\\Temp\\pip-install-a9doixbp\\mujoco-py_a0c5816a1c274a2398a45eff6b832b6c\\\n",
      "  Complete output (54 lines):\n",
      "  running bdist_wheel\n",
      "  running build\n",
      "  \n",
      "  You appear to be missing MuJoCo.  We expected to find the file here: C:\\Users\\ASUS\\.mujoco\\mjpro150\n",
      "  \n",
      "  This package only provides python bindings, the library must be installed separately.\n",
      "  \n",
      "  Please follow the instructions on the README to install MuJoCo\n",
      "  \n",
      "      https://github.com/openai/mujoco-py#install-mujoco\n",
      "  \n",
      "  Which can be downloaded from the website\n",
      "  \n",
      "      https://www.roboti.us/index.html\n",
      "  \n",
      "  Traceback (most recent call last):\n",
      "    File \"<string>\", line 1, in <module>\n",
      "    File \"C:\\Users\\ASUS\\AppData\\Local\\Temp\\pip-install-a9doixbp\\mujoco-py_a0c5816a1c274a2398a45eff6b832b6c\\setup.py\", line 32, in <module>\n",
      "      setup(\n",
      "    File \"C:\\Users\\ASUS\\AppData\\Roaming\\Python\\Python38\\site-packages\\setuptools\\__init__.py\", line 153, in setup\n",
      "      return distutils.core.setup(**attrs)\n",
      "    File \"c:\\program files\\python38\\lib\\distutils\\core.py\", line 148, in setup\n",
      "      dist.run_commands()\n",
      "    File \"c:\\program files\\python38\\lib\\distutils\\dist.py\", line 966, in run_commands\n",
      "      self.run_command(cmd)\n",
      "    File \"c:\\program files\\python38\\lib\\distutils\\dist.py\", line 985, in run_command\n",
      "      cmd_obj.run()\n",
      "    File \"C:\\Users\\ASUS\\AppData\\Roaming\\Python\\Python38\\site-packages\\wheel\\bdist_wheel.py\", line 299, in run\n",
      "      self.run_command('build')\n",
      "    File \"c:\\program files\\python38\\lib\\distutils\\cmd.py\", line 313, in run_command\n",
      "      self.distribution.run_command(command)\n",
      "    File \"c:\\program files\\python38\\lib\\distutils\\dist.py\", line 985, in run_command\n",
      "      cmd_obj.run()\n",
      "    File \"C:\\Users\\ASUS\\AppData\\Local\\Temp\\pip-install-a9doixbp\\mujoco-py_a0c5816a1c274a2398a45eff6b832b6c\\setup.py\", line 28, in run\n",
      "      import mujoco_py  # noqa: force build\n",
      "    File \"C:\\Users\\ASUS\\AppData\\Local\\Temp\\pip-install-a9doixbp\\mujoco-py_a0c5816a1c274a2398a45eff6b832b6c\\mujoco_py\\__init__.py\", line 3, in <module>\n",
      "      from mujoco_py.builder import cymj, ignore_mujoco_warnings, functions, MujocoException\n",
      "    File \"C:\\Users\\ASUS\\AppData\\Local\\Temp\\pip-install-a9doixbp\\mujoco-py_a0c5816a1c274a2398a45eff6b832b6c\\mujoco_py\\builder.py\", line 502, in <module>\n",
      "      mjpro_path, key_path = discover_mujoco()\n",
      "    File \"C:\\Users\\ASUS\\AppData\\Local\\Temp\\pip-install-a9doixbp\\mujoco-py_a0c5816a1c274a2398a45eff6b832b6c\\mujoco_py\\utils.py\", line 93, in discover_mujoco\n",
      "      raise Exception(message)\n",
      "  Exception:\n",
      "  You appear to be missing MuJoCo.  We expected to find the file here: C:\\Users\\ASUS\\.mujoco\\mjpro150\n",
      "  \n",
      "  This package only provides python bindings, the library must be installed separately.\n",
      "  \n",
      "  Please follow the instructions on the README to install MuJoCo\n",
      "  \n",
      "      https://github.com/openai/mujoco-py#install-mujoco\n",
      "  \n",
      "  Which can be downloaded from the website\n",
      "  \n",
      "      https://www.roboti.us/index.html\n",
      "  \n",
      "  ----------------------------------------\n",
      "  ERROR: Failed building wheel for mujoco-py\n",
      "    ERROR: Command errored out with exit status 1:\n",
      "     command: 'c:\\program files\\python38\\python.exe' -u -c 'import io, os, sys, setuptools, tokenize; sys.argv[0] = '\"'\"'C:\\\\Users\\\\ASUS\\\\AppData\\\\Local\\\\Temp\\\\pip-install-a9doixbp\\\\mujoco-py_a0c5816a1c274a2398a45eff6b832b6c\\\\setup.py'\"'\"'; __file__='\"'\"'C:\\\\Users\\\\ASUS\\\\AppData\\\\Local\\\\Temp\\\\pip-install-a9doixbp\\\\mujoco-py_a0c5816a1c274a2398a45eff6b832b6c\\\\setup.py'\"'\"';f = getattr(tokenize, '\"'\"'open'\"'\"', open)(__file__) if os.path.exists(__file__) else io.StringIO('\"'\"'from setuptools import setup; setup()'\"'\"');code = f.read().replace('\"'\"'\\r\\n'\"'\"', '\"'\"'\\n'\"'\"');f.close();exec(compile(code, __file__, '\"'\"'exec'\"'\"'))' install --record 'C:\\Users\\ASUS\\AppData\\Local\\Temp\\pip-record-1d1nwd_9\\install-record.txt' --single-version-externally-managed --user --prefix= --compile --install-headers 'C:\\Users\\ASUS\\AppData\\Roaming\\Python\\Python38\\Include\\mujoco-py'\n",
      "         cwd: C:\\Users\\ASUS\\AppData\\Local\\Temp\\pip-install-a9doixbp\\mujoco-py_a0c5816a1c274a2398a45eff6b832b6c\\\n",
      "    Complete output (58 lines):\n",
      "    running install\n",
      "    C:\\Users\\ASUS\\AppData\\Roaming\\Python\\Python38\\site-packages\\setuptools\\command\\install.py:34: SetuptoolsDeprecationWarning: setup.py install is deprecated. Use build and pip and other standards-based tools.\n",
      "      warnings.warn(\n",
      "    running build\n",
      "    \n",
      "    You appear to be missing MuJoCo.  We expected to find the file here: C:\\Users\\ASUS\\.mujoco\\mjpro150\n",
      "    \n",
      "    This package only provides python bindings, the library must be installed separately.\n",
      "    \n",
      "    Please follow the instructions on the README to install MuJoCo\n",
      "    \n",
      "        https://github.com/openai/mujoco-py#install-mujoco\n",
      "    \n",
      "    Which can be downloaded from the website\n",
      "    \n",
      "        https://www.roboti.us/index.html\n",
      "    \n",
      "    Traceback (most recent call last):\n",
      "      File \"<string>\", line 1, in <module>\n",
      "      File \"C:\\Users\\ASUS\\AppData\\Local\\Temp\\pip-install-a9doixbp\\mujoco-py_a0c5816a1c274a2398a45eff6b832b6c\\setup.py\", line 32, in <module>\n",
      "        setup(\n",
      "      File \"C:\\Users\\ASUS\\AppData\\Roaming\\Python\\Python38\\site-packages\\setuptools\\__init__.py\", line 153, in setup\n",
      "        return distutils.core.setup(**attrs)\n",
      "      File \"c:\\program files\\python38\\lib\\distutils\\core.py\", line 148, in setup\n",
      "        dist.run_commands()\n",
      "      File \"c:\\program files\\python38\\lib\\distutils\\dist.py\", line 966, in run_commands\n",
      "        self.run_command(cmd)\n",
      "      File \"c:\\program files\\python38\\lib\\distutils\\dist.py\", line 985, in run_command\n",
      "        cmd_obj.run()\n",
      "      File \"C:\\Users\\ASUS\\AppData\\Roaming\\Python\\Python38\\site-packages\\setuptools\\command\\install.py\", line 68, in run\n",
      "        return orig.install.run(self)\n",
      "      File \"c:\\program files\\python38\\lib\\distutils\\command\\install.py\", line 545, in run\n",
      "        self.run_command('build')\n",
      "      File \"c:\\program files\\python38\\lib\\distutils\\cmd.py\", line 313, in run_command\n",
      "        self.distribution.run_command(command)\n",
      "      File \"c:\\program files\\python38\\lib\\distutils\\dist.py\", line 985, in run_command\n",
      "        cmd_obj.run()\n",
      "      File \"C:\\Users\\ASUS\\AppData\\Local\\Temp\\pip-install-a9doixbp\\mujoco-py_a0c5816a1c274a2398a45eff6b832b6c\\setup.py\", line 28, in run\n",
      "        import mujoco_py  # noqa: force build\n",
      "      File \"C:\\Users\\ASUS\\AppData\\Local\\Temp\\pip-install-a9doixbp\\mujoco-py_a0c5816a1c274a2398a45eff6b832b6c\\mujoco_py\\__init__.py\", line 3, in <module>\n",
      "        from mujoco_py.builder import cymj, ignore_mujoco_warnings, functions, MujocoException\n",
      "      File \"C:\\Users\\ASUS\\AppData\\Local\\Temp\\pip-install-a9doixbp\\mujoco-py_a0c5816a1c274a2398a45eff6b832b6c\\mujoco_py\\builder.py\", line 502, in <module>\n",
      "        mjpro_path, key_path = discover_mujoco()\n",
      "      File \"C:\\Users\\ASUS\\AppData\\Local\\Temp\\pip-install-a9doixbp\\mujoco-py_a0c5816a1c274a2398a45eff6b832b6c\\mujoco_py\\utils.py\", line 93, in discover_mujoco\n",
      "        raise Exception(message)\n",
      "    Exception:\n",
      "    You appear to be missing MuJoCo.  We expected to find the file here: C:\\Users\\ASUS\\.mujoco\\mjpro150\n",
      "    \n",
      "    This package only provides python bindings, the library must be installed separately.\n",
      "    \n",
      "    Please follow the instructions on the README to install MuJoCo\n",
      "    \n",
      "        https://github.com/openai/mujoco-py#install-mujoco\n",
      "    \n",
      "    Which can be downloaded from the website\n",
      "    \n",
      "        https://www.roboti.us/index.html\n",
      "    \n",
      "    ----------------------------------------\n",
      "ERROR: Command errored out with exit status 1: 'c:\\program files\\python38\\python.exe' -u -c 'import io, os, sys, setuptools, tokenize; sys.argv[0] = '\"'\"'C:\\\\Users\\\\ASUS\\\\AppData\\\\Local\\\\Temp\\\\pip-install-a9doixbp\\\\mujoco-py_a0c5816a1c274a2398a45eff6b832b6c\\\\setup.py'\"'\"'; __file__='\"'\"'C:\\\\Users\\\\ASUS\\\\AppData\\\\Local\\\\Temp\\\\pip-install-a9doixbp\\\\mujoco-py_a0c5816a1c274a2398a45eff6b832b6c\\\\setup.py'\"'\"';f = getattr(tokenize, '\"'\"'open'\"'\"', open)(__file__) if os.path.exists(__file__) else io.StringIO('\"'\"'from setuptools import setup; setup()'\"'\"');code = f.read().replace('\"'\"'\\r\\n'\"'\"', '\"'\"'\\n'\"'\"');f.close();exec(compile(code, __file__, '\"'\"'exec'\"'\"'))' install --record 'C:\\Users\\ASUS\\AppData\\Local\\Temp\\pip-record-1d1nwd_9\\install-record.txt' --single-version-externally-managed --user --prefix= --compile --install-headers 'C:\\Users\\ASUS\\AppData\\Roaming\\Python\\Python38\\Include\\mujoco-py' Check the logs for full command output.\n",
      "WARNING: You are using pip version 21.2.4; however, version 21.3.1 is available.\n",
      "You should consider upgrading via the 'c:\\program files\\python38\\python.exe -m pip install --upgrade pip' command.\n"
     ]
    },
    {
     "name": "stdout",
     "output_type": "stream",
     "text": [
      "Defaulting to user installation because normal site-packages is not writeable\n",
      "Requirement already satisfied: PyVirtualDisplay in c:\\users\\asus\\appdata\\roaming\\python\\python38\\site-packages (2.2)\n",
      "Requirement already satisfied: EasyProcess in c:\\users\\asus\\appdata\\roaming\\python\\python38\\site-packages (from PyVirtualDisplay) (0.3)\n"
     ]
    },
    {
     "name": "stderr",
     "output_type": "stream",
     "text": [
      "WARNING: You are using pip version 21.2.4; however, version 21.3.1 is available.\n",
      "You should consider upgrading via the 'c:\\program files\\python38\\python.exe -m pip install --upgrade pip' command.\n"
     ]
    }
   ],
   "source": [
    "import numpy as np\n",
    "import gym\n",
    "import tensorflow as tf\n",
    "import matplotlib.pyplot as plt\n",
    "tf.compat.v1.disable_eager_execution()\n",
    "import tf_slim\n",
    "from collections import deque, Counter\n",
    "from gym import logger as gymlogger\n",
    "from gym.wrappers import Monitor\n",
    "import numpy as np\n",
    "import matplotlib.pyplot as plt\n",
    "%matplotlib inline\n",
    "import glob\n",
    "import io\n",
    "import base64\n",
    "from IPython.display import HTML\n",
    "!pip install keras==2.6.*\n",
    "!pip install gym[all]\n",
    "!pip install PyVirtualDisplay"
   ]
  },
  {
   "cell_type": "code",
   "execution_count": 25,
   "metadata": {
    "colab": {
     "base_uri": "https://localhost:8080/",
     "height": 304
    },
    "colab_type": "code",
    "id": "jnbrjWstHJTu",
    "outputId": "438fe470-ea06-429b-b077-e06e0406e326"
   },
   "outputs": [
    {
     "name": "stdout",
     "output_type": "stream",
     "text": [
      "6\n",
      "['NOOP', 'FIRE', 'RIGHT', 'LEFT', 'RIGHTFIRE', 'LEFTFIRE']\n"
     ]
    }
   ],
   "source": [
    "# تهيئة بيئة عمل اللعبة\n",
    "env = gym.make(\"SpaceInvaders-v0\")\n",
    "# معاينة عدد الأفعال الممكنة\n",
    "n_outputs = env.action_space.n\n",
    "print(n_outputs)\n",
    "# معاينة أسماء الأفعال الممكنة\n",
    "print(env.get_action_meanings())"
   ]
  },
  {
   "cell_type": "code",
   "execution_count": 26,
   "metadata": {},
   "outputs": [
    {
     "data": {
      "image/png": "[encoded data removed]",
      "text/plain": [
       "<Figure size 432x288 with 1 Axes>"
      ]
     },
     "metadata": {
      "needs_background": "light"
     },
     "output_type": "display_data"
    }
   ],
   "source": [
    "# التهيئة الأولية\n",
    "state = env.reset()\n",
    "# معاينة الوضع الأولي للعبة\n",
    "plt.imshow(state)\n",
    "plt.show()"
   ]
  },
  {
   "cell_type": "code",
   "execution_count": 27,
   "metadata": {},
   "outputs": [
    {
     "name": "stdout",
     "output_type": "stream",
     "text": [
      "RIGHTFIRE  ==>  5.0  ,( 0.0 )\n",
      "RIGHT  ==>  10.0  ,( 5.0 )\n",
      "RIGHT  ==>  15.0  ,( 15.0 )\n",
      "LEFT  ==>  15.0  ,( 30.0 )\n",
      "LEFT  ==>  5.0  ,( 45.0 )\n",
      "LEFTFIRE  ==>  10.0  ,( 50.0 )\n",
      "NOOP  ==>  20.0  ,( 60.0 )\n",
      "RIGHTFIRE  ==>  20.0  ,( 80.0 )\n",
      "RIGHTFIRE  ==>  25.0  ,( 100.0 )\n",
      "LEFTFIRE  ==>  30.0  ,( 125.0 )\n",
      "Reward: 155.0\n"
     ]
    },
    {
     "data": {
      "image/png": "[encoded data removed]",
      "text/plain": [
       "<Figure size 432x288 with 1 Axes>"
      ]
     },
     "metadata": {
      "needs_background": "light"
     },
     "output_type": "display_data"
    }
   ],
   "source": [
    "env.reset()\n",
    "# المكافآة الإجمالية\n",
    "episode_reward = 0 \n",
    "while True:\n",
    "    # اختيار فعل بشكل عشوائي\n",
    "    action = env.action_space.sample()\n",
    "    # تنفيذ الفعل\n",
    "    # الانتقال لحالة جديدة\n",
    "    state, reward, done, info = env.step(action)\n",
    "    if (reward>0):\n",
    "        # طباعة القيم في حال مكافآة أكبر من الصفر\n",
    "        print(env.get_action_meanings()[action],\" ==> \",  reward, \" ,(\",episode_reward,\")\" )\n",
    "    # إضافة مكافآة الفعل للمكافآة الإجمالية\n",
    "    episode_reward += reward\n",
    "    # اختبار نهاية اللعبة\n",
    "    if done:\n",
    "        # طباعة المكافآة النهائية\n",
    "        print('Reward: %s' % episode_reward)\n",
    "        break\n",
    "# معاينة الوضع النهائي للعبة\n",
    "plt.imshow(state)\n",
    "plt.show()"
   ]
  },
  {
   "cell_type": "code",
   "execution_count": 28,
   "metadata": {},
   "outputs": [],
   "source": [
    "def preprocess_state(state):\n",
    "    # نحجيم الصورة واقتطاع الجزء الهام منها\n",
    "    img = state[25:201:2, ::2]\n",
    "    # تحويل الصورة إلى درجات الرمادي\n",
    "    img = img.mean(axis=2)\n",
    "    color = np.array([210, 164, 74]).mean()\n",
    "    # تحسين التباين في الصورة\n",
    "    img[img==color] = 0\n",
    "    # تطبيع القيم من -1 إلى +1\n",
    "    img = (img - 128) / 128 - 1\n",
    "    return img.reshape(88,80)"
   ]
  },
  {
   "cell_type": "code",
   "execution_count": 29,
   "metadata": {
    "colab": {
     "base_uri": "https://localhost:8080/",
     "height": 303
    },
    "colab_type": "code",
    "id": "_Ma31y4wFpst",
    "outputId": "b4502973-6464-4b0d-ac0b-d5f1ce4c16f4"
   },
   "outputs": [
    {
     "name": "stdout",
     "output_type": "stream",
     "text": [
      "(210, 160, 3)\n",
      "(88, 80)\n"
     ]
    },
    {
     "data": {
      "image/png": "[encoded data removed]",
      "text/plain": [
       "<Figure size 432x288 with 1 Axes>"
      ]
     },
     "metadata": {
      "needs_background": "light"
     },
     "output_type": "display_data"
    }
   ],
   "source": [
    "# التهيئة الأولية\n",
    "state = env.reset()\n",
    "# معاينة الصورة بعد عمليات التهيئة\n",
    "state_preprocessed = preprocess_state(state).reshape(88,80)\n",
    "print(state.shape)\n",
    "print(state_preprocessed.shape)\n",
    "plt.imshow(state_preprocessed)\n",
    "plt.show()"
   ]
  },
  {
   "cell_type": "code",
   "execution_count": 30,
   "metadata": {
    "colab": {},
    "colab_type": "code",
    "id": "fkbOSaSWjODi"
   },
   "outputs": [],
   "source": [
    "# نستخدم 4 صور متعاقبة لملاحقة الحركة\n",
    "stack_size = 4 \n",
    "# تهيئة قائمة مفتوحة الطرفين\n",
    "# تحوي أربعة صور ذات قيم 0\n",
    "stacked_frames  =  deque([np.zeros((88,80), dtype=np.int) for i in range(stack_size)], maxlen=4)\n",
    "def stack_frames(stacked_frames, state, is_new_episode):\n",
    "    # المعالجة الأولية للصورة\n",
    "    frame = preprocess_state(state)\n",
    "    # إذا حلقة جديدة\n",
    "    if is_new_episode:\n",
    "        # مسح الصور السابقة المكدّسة\n",
    "        stacked_frames = deque([np.zeros((88,80), dtype=np.int) for i in range(stack_size)], maxlen=4)\n",
    "        # تكرار الصورة المعالجة في كل حلقة جديدة من اللعبة\n",
    "        stacked_frames.append(frame)\n",
    "        stacked_frames.append(frame)\n",
    "        stacked_frames.append(frame)\n",
    "        stacked_frames.append(frame)\n",
    "        # تكديس الصور\n",
    "        stacked_state = np.stack(stacked_frames, axis=2)     \n",
    "    else:\n",
    "        # بما أن القائمة مفتوحة الطرفين تضيف من أقصى اليمين\n",
    "        # نُحضر الصورة أقصى اليمين\n",
    "        frame=stacked_frames[-1]\n",
    "        # إضافة الصورة \n",
    "        stacked_frames.append(frame)\n",
    "        # إنشاء الحالة\n",
    "        stacked_state = np.stack(stacked_frames, axis=2) \n",
    "    return stacked_state, stacked_frames"
   ]
  },
  {
   "cell_type": "code",
   "execution_count": 31,
   "metadata": {
    "colab": {},
    "colab_type": "code",
    "id": "J4Cco6huHJT4"
   },
   "outputs": [],
   "source": [
    "def q_network(X, name_scope):\n",
    "    # تهيئة الطبقات\n",
    "    initializer = tf.compat.v1.keras.initializers.VarianceScaling(scale=2.0)\n",
    "    with tf.compat.v1.variable_scope(name_scope) as scope: \n",
    "        # تهيئة الطبقات التلافيفية\n",
    "        layer_1 = tf_slim.conv2d(X, num_outputs=32, kernel_size=(8,8), stride=4, padding='SAME', weights_initializer=initializer) \n",
    "        tf.compat.v1.summary.histogram('layer_1',layer_1)\n",
    "        layer_2 = tf_slim.conv2d(layer_1, num_outputs=64, kernel_size=(4,4), stride=2, padding='SAME', weights_initializer=initializer)\n",
    "        tf.compat.v1.summary.histogram('layer_2',layer_2)\n",
    "        layer_3 = tf_slim.conv2d(layer_2, num_outputs=64, kernel_size=(3,3), stride=1, padding='SAME', weights_initializer=initializer)\n",
    "        tf.compat.v1.summary.histogram('layer_3',layer_3)\n",
    "        # تسطيح نتيجة الطبقة الثالثة قبل تمريرها إلى الطبقة\n",
    "        # التالية الموصولة بشكل كامل\n",
    "        flat = tf_slim.flatten(layer_3)\n",
    "        # إدراج الطبقة الموصولة بشكل كامل\n",
    "        fc = tf_slim.fully_connected(flat, num_outputs=128, weights_initializer=initializer)\n",
    "        tf.compat.v1.summary.histogram('fc',fc)\n",
    "        # إضافة طبقة الخرج النهائية\n",
    "        output = tf_slim.fully_connected(fc, num_outputs=n_outputs, activation_fn=None, weights_initializer=initializer)\n",
    "        tf.compat.v1.summary.histogram('output',output)\n",
    "        # تخزين معاملات الشبكة كأوزان\n",
    "        vars = {v.name[len(scope.name):]: v for v in tf.compat.v1.get_collection(key=tf.compat.v1.GraphKeys.TRAINABLE_VARIABLES, scope=scope.name)} \n",
    "    \t# إرجاع كل من المتغيرات والخرج\n",
    "        return vars, output"
   ]
  },
  {
   "cell_type": "code",
   "execution_count": 32,
   "metadata": {
    "colab": {},
    "colab_type": "code",
    "id": "pSgZ4PHaHJT_"
   },
   "outputs": [],
   "source": [
    "epsilon = 0.5\n",
    "eps_min = 0.05\n",
    "eps_max = 1.0\n",
    "eps_decay_steps = 500000\n",
    "# تعريف سياسة إبسلون الشرهة\n",
    "def epsilon_greedy(action, step):\n",
    "    p = np.random.random(1).squeeze() #متحهة أحادية\n",
    "    epsilon = max(eps_min, eps_max - (eps_max-eps_min) * step/eps_decay_steps)\n",
    "    if p< epsilon:\n",
    "        return np.random.randint(n_outputs)\n",
    "    else:\n",
    "        return action"
   ]
  },
  {
   "cell_type": "code",
   "execution_count": 33,
   "metadata": {
    "colab": {},
    "colab_type": "code",
    "id": "_DU5VHc-HJUE"
   },
   "outputs": [],
   "source": [
    "buffer_len = 20000\n",
    "# نستخدم لذاكرة التخزين المؤقت قائمة مفتوحة الطرفين\n",
    "exp_buffer = deque(maxlen=buffer_len)"
   ]
  },
  {
   "cell_type": "code",
   "execution_count": 34,
   "metadata": {
    "colab": {},
    "colab_type": "code",
    "id": "em_AW8I7HJUJ"
   },
   "outputs": [],
   "source": [
    "# اختيار مجموعة عشوائية من تجارب التدريب\n",
    "# بطول حجم دفعة التدريب \n",
    "def sample_memories(batch_size):\n",
    "    perm_batch = np.random.permutation(len(exp_buffer))[:batch_size]\n",
    "    mem = np.array(exp_buffer)[perm_batch]\n",
    "    return mem[:,0], mem[:,1], mem[:,2], mem[:,3], mem[:,4]"
   ]
  },
  {
   "cell_type": "markdown",
   "metadata": {
    "colab_type": "text",
    "id": "zTRBSM53HJUM"
   },
   "source": [
    "Now we define our network hyperparameters,"
   ]
  },
  {
   "cell_type": "code",
   "execution_count": 35,
   "metadata": {
    "colab": {},
    "colab_type": "code",
    "id": "r1iZveLKHJUN"
   },
   "outputs": [],
   "source": [
    "num_episodes = 20000\n",
    "batch_size = 48\n",
    "input_shape = (None, 88, 80, 1)\n",
    "learning_rate = 0.001\n",
    "# التعديل لملائمة الصور المكدسة\n",
    "X_shape = (None, 88, 80, 4)\n",
    "discount_factor = 0.97\n",
    "global_step = 0\n",
    "copy_steps = 100\n",
    "steps_train = 4\n",
    "start_steps = 2000"
   ]
  },
  {
   "cell_type": "code",
   "execution_count": 36,
   "metadata": {
    "colab": {},
    "colab_type": "code",
    "id": "S-JwepmXHJUQ"
   },
   "outputs": [],
   "source": [
    "tf.compat.v1.reset_default_graph()\n",
    "# تعريف حاويةدخل الشبكة العصبية أي حالة اللعبة\n",
    "X = tf.compat.v1.placeholder(tf.float32, shape=X_shape)\n",
    "# تعريف متغير بولياني لقلب حالة التدريب \n",
    "in_training_mode = tf.compat.v1.placeholder(tf.bool)"
   ]
  },
  {
   "cell_type": "code",
   "execution_count": 37,
   "metadata": {
    "colab": {
     "base_uri": "https://localhost:8080/",
     "height": 142
    },
    "colab_type": "code",
    "id": "ibqY86h4HJUU",
    "outputId": "e4ab3c97-3bd2-4c9f-e08d-23db251eec90"
   },
   "outputs": [],
   "source": [
    "# we build our Q network, which takes the input X and generates Q values for all the actions in the state\n",
    "# بناء الشبكةالتي تولد جميع قيم التعلم لجميع الأفعال في الحالة\n",
    "mainQ, mainQ_outputs = q_network(X, 'mainQ')\n",
    "# بشكل مشابهة نبني الشبكة الهدف لقيم التعلم\n",
    "# similarly we build our target Q network\n",
    "targetQ, targetQ_outputs = q_network(X, 'targetQ')\n",
    "# تعريف حاوية قيم الأفعال\n",
    "X_action = tf.compat.v1.placeholder(tf.int32, shape=(None,))\n",
    "Q_action = tf.reduce_sum(input_tensor=targetQ_outputs * tf.one_hot(X_action, n_outputs), axis=-1, keepdims=True)\n",
    "# نسخ قيم معاملات الشبكة إلى الشبكة الهدف\n",
    "copy_op = [tf.compat.v1.assign(main_name, targetQ[var_name]) for var_name, main_name in mainQ.items()]\n",
    "copy_target_to_main = tf.group(*copy_op)"
   ]
  },
  {
   "cell_type": "code",
   "execution_count": 38,
   "metadata": {
    "colab": {},
    "colab_type": "code",
    "id": "jBHokSlGHJU6"
   },
   "outputs": [],
   "source": [
    "# تعريف حاوبة الخرج\n",
    "y = tf.compat.v1.placeholder(tf.float32, shape=(None,1))\n",
    "# حساب الخسارة والتي هي الفرق بين القيمة الحقيقية والقيمة المتوقعة\n",
    "loss = tf.reduce_mean(input_tensor=tf.square(y - Q_action))\n",
    "# تحسين الخسارة\n",
    "optimizer = tf.compat.v1.train.AdamOptimizer(learning_rate)\n",
    "training_op = optimizer.minimize(loss)"
   ]
  },
  {
   "cell_type": "code",
   "execution_count": 39,
   "metadata": {
    "colab": {
     "base_uri": "https://localhost:8080/",
     "height": 466
    },
    "colab_type": "code",
    "id": "VWMSuB2cHJVA",
    "outputId": "51bb518b-cc45-4aec-9a97-3d7c382fd618",
    "scrolled": false
   },
   "outputs": [
    {
     "name": "stdout",
     "output_type": "stream",
     "text": [
      "Epochs per episode: 505 Episode Reward: 30.0 Episode number: 1\n",
      "Epochs per episode: 539 Episode Reward: 50.0 Episode number: 2\n",
      "Epochs per episode: 662 Episode Reward: 120.0 Episode number: 3\n"
     ]
    },
    {
     "name": "stderr",
     "output_type": "stream",
     "text": [
      "<ipython-input-34-762d291a11cf>:5: VisibleDeprecationWarning: Creating an ndarray from ragged nested sequences (which is a list-or-tuple of lists-or-tuples-or ndarrays with different lengths or shapes) is deprecated. If you meant to do this, you must specify 'dtype=object' when creating the ndarray\n",
      "  mem = np.array(exp_buffer)[perm_batch]\n"
     ]
    },
    {
     "name": "stdout",
     "output_type": "stream",
     "text": [
      "Epochs per episode: 608 Episode Reward: 120.0 Episode number: 4\n",
      "Epochs per episode: 615 Episode Reward: 120.0 Episode number: 5\n",
      "Epochs per episode: 539 Episode Reward: 135.0 Episode number: 6\n",
      "Epochs per episode: 343 Episode Reward: 50.0 Episode number: 7\n",
      "Epochs per episode: 710 Episode Reward: 355.0 Episode number: 8\n",
      "Epochs per episode: 583 Episode Reward: 125.0 Episode number: 9\n",
      "Epochs per episode: 540 Episode Reward: 165.0 Episode number: 10\n",
      "Epochs per episode: 928 Episode Reward: 435.0 Episode number: 11\n",
      "Epochs per episode: 739 Episode Reward: 160.0 Episode number: 12\n",
      "Epochs per episode: 848 Episode Reward: 165.0 Episode number: 13\n",
      "Epochs per episode: 1168 Episode Reward: 315.0 Episode number: 14\n",
      "Epochs per episode: 653 Episode Reward: 120.0 Episode number: 15\n",
      "Epochs per episode: 659 Episode Reward: 210.0 Episode number: 16\n",
      "Epochs per episode: 814 Episode Reward: 405.0 Episode number: 17\n",
      "Epochs per episode: 370 Episode Reward: 50.0 Episode number: 18\n",
      "Epochs per episode: 984 Episode Reward: 430.0 Episode number: 19\n",
      "Epochs per episode: 617 Episode Reward: 135.0 Episode number: 20\n",
      "Epochs per episode: 450 Episode Reward: 80.0 Episode number: 21\n",
      "Epochs per episode: 706 Episode Reward: 225.0 Episode number: 22\n",
      "Epochs per episode: 422 Episode Reward: 75.0 Episode number: 23\n",
      "Epochs per episode: 977 Episode Reward: 285.0 Episode number: 24\n",
      "Epochs per episode: 764 Episode Reward: 175.0 Episode number: 25\n",
      "Epochs per episode: 432 Episode Reward: 70.0 Episode number: 26\n",
      "Epochs per episode: 665 Episode Reward: 115.0 Episode number: 27\n",
      "Epochs per episode: 498 Episode Reward: 65.0 Episode number: 28\n",
      "Epochs per episode: 662 Episode Reward: 155.0 Episode number: 29\n",
      "Epochs per episode: 500 Episode Reward: 35.0 Episode number: 30\n",
      "Epochs per episode: 871 Episode Reward: 215.0 Episode number: 31\n",
      "Epochs per episode: 514 Episode Reward: 50.0 Episode number: 32\n",
      "Epochs per episode: 542 Episode Reward: 120.0 Episode number: 33\n",
      "Epochs per episode: 701 Episode Reward: 135.0 Episode number: 34\n",
      "Epochs per episode: 840 Episode Reward: 305.0 Episode number: 35\n",
      "Epochs per episode: 513 Episode Reward: 105.0 Episode number: 36\n",
      "Epochs per episode: 807 Episode Reward: 135.0 Episode number: 37\n",
      "Epochs per episode: 921 Episode Reward: 225.0 Episode number: 38\n",
      "Epochs per episode: 477 Episode Reward: 20.0 Episode number: 39\n",
      "Epochs per episode: 740 Episode Reward: 160.0 Episode number: 40\n",
      "Epochs per episode: 619 Episode Reward: 110.0 Episode number: 41\n",
      "Epochs per episode: 725 Episode Reward: 195.0 Episode number: 42\n",
      "Epochs per episode: 1234 Episode Reward: 170.0 Episode number: 43\n",
      "Epochs per episode: 648 Episode Reward: 180.0 Episode number: 44\n",
      "Epochs per episode: 638 Episode Reward: 135.0 Episode number: 45\n",
      "Epochs per episode: 654 Episode Reward: 45.0 Episode number: 46\n",
      "Epochs per episode: 560 Episode Reward: 80.0 Episode number: 47\n",
      "Epochs per episode: 675 Episode Reward: 185.0 Episode number: 48\n",
      "Epochs per episode: 546 Episode Reward: 65.0 Episode number: 49\n",
      "Epochs per episode: 562 Episode Reward: 65.0 Episode number: 50\n",
      "Epochs per episode: 747 Episode Reward: 120.0 Episode number: 51\n",
      "Epochs per episode: 405 Episode Reward: 30.0 Episode number: 52\n",
      "Epochs per episode: 709 Episode Reward: 95.0 Episode number: 53\n",
      "Epochs per episode: 655 Episode Reward: 80.0 Episode number: 54\n",
      "Epochs per episode: 527 Episode Reward: 90.0 Episode number: 55\n",
      "Epochs per episode: 523 Episode Reward: 135.0 Episode number: 56\n",
      "Epochs per episode: 1331 Episode Reward: 245.0 Episode number: 57\n",
      "Epochs per episode: 716 Episode Reward: 145.0 Episode number: 58\n",
      "Epochs per episode: 844 Episode Reward: 215.0 Episode number: 59\n",
      "Epochs per episode: 757 Episode Reward: 120.0 Episode number: 60\n",
      "Epochs per episode: 758 Episode Reward: 120.0 Episode number: 61\n",
      "Epochs per episode: 391 Episode Reward: 35.0 Episode number: 62\n",
      "Epochs per episode: 653 Episode Reward: 130.0 Episode number: 63\n",
      "Epochs per episode: 503 Episode Reward: 155.0 Episode number: 64\n",
      "Epochs per episode: 508 Episode Reward: 35.0 Episode number: 65\n",
      "Epochs per episode: 495 Episode Reward: 105.0 Episode number: 66\n",
      "Epochs per episode: 761 Episode Reward: 210.0 Episode number: 67\n",
      "Epochs per episode: 568 Episode Reward: 105.0 Episode number: 68\n",
      "Epochs per episode: 604 Episode Reward: 105.0 Episode number: 69\n",
      "Epochs per episode: 668 Episode Reward: 85.0 Episode number: 70\n",
      "Epochs per episode: 702 Episode Reward: 135.0 Episode number: 71\n",
      "Epochs per episode: 524 Episode Reward: 35.0 Episode number: 72\n",
      "Epochs per episode: 665 Episode Reward: 125.0 Episode number: 73\n",
      "Epochs per episode: 757 Episode Reward: 185.0 Episode number: 74\n",
      "Epochs per episode: 830 Episode Reward: 140.0 Episode number: 75\n",
      "Epochs per episode: 616 Episode Reward: 105.0 Episode number: 76\n",
      "Epochs per episode: 864 Episode Reward: 225.0 Episode number: 77\n",
      "Epochs per episode: 381 Episode Reward: 70.0 Episode number: 78\n",
      "Epochs per episode: 907 Episode Reward: 225.0 Episode number: 79\n",
      "Epochs per episode: 585 Episode Reward: 105.0 Episode number: 80\n",
      "Epochs per episode: 845 Episode Reward: 210.0 Episode number: 81\n",
      "Epochs per episode: 941 Episode Reward: 415.0 Episode number: 82\n",
      "Epochs per episode: 512 Episode Reward: 80.0 Episode number: 83\n",
      "Epochs per episode: 848 Episode Reward: 440.0 Episode number: 84\n",
      "Epochs per episode: 406 Episode Reward: 45.0 Episode number: 85\n",
      "Epochs per episode: 832 Episode Reward: 225.0 Episode number: 86\n",
      "Epochs per episode: 644 Episode Reward: 80.0 Episode number: 87\n",
      "Epochs per episode: 1163 Episode Reward: 315.0 Episode number: 88\n",
      "Epochs per episode: 743 Episode Reward: 215.0 Episode number: 89\n",
      "Epochs per episode: 720 Episode Reward: 210.0 Episode number: 90\n",
      "Epochs per episode: 532 Episode Reward: 80.0 Episode number: 91\n",
      "Epochs per episode: 838 Episode Reward: 215.0 Episode number: 92\n",
      "Epochs per episode: 793 Episode Reward: 240.0 Episode number: 93\n",
      "Epochs per episode: 714 Episode Reward: 155.0 Episode number: 94\n",
      "Epochs per episode: 609 Episode Reward: 105.0 Episode number: 95\n",
      "Epochs per episode: 938 Episode Reward: 240.0 Episode number: 96\n",
      "Epochs per episode: 670 Episode Reward: 135.0 Episode number: 97\n",
      "Epochs per episode: 482 Episode Reward: 105.0 Episode number: 98\n",
      "Epochs per episode: 470 Episode Reward: 45.0 Episode number: 99\n",
      "Epochs per episode: 1050 Episode Reward: 335.0 Episode number: 100\n",
      "Epochs per episode: 1039 Episode Reward: 180.0 Episode number: 101\n",
      "Epochs per episode: 705 Episode Reward: 135.0 Episode number: 102\n",
      "Epochs per episode: 817 Episode Reward: 250.0 Episode number: 103\n",
      "Epochs per episode: 776 Episode Reward: 225.0 Episode number: 104\n",
      "Epochs per episode: 491 Episode Reward: 65.0 Episode number: 105\n",
      "Epochs per episode: 966 Episode Reward: 160.0 Episode number: 106\n",
      "Epochs per episode: 795 Episode Reward: 130.0 Episode number: 107\n",
      "Epochs per episode: 402 Episode Reward: 65.0 Episode number: 108\n",
      "Epochs per episode: 928 Episode Reward: 230.0 Episode number: 109\n",
      "Epochs per episode: 664 Episode Reward: 120.0 Episode number: 110\n",
      "Epochs per episode: 865 Episode Reward: 215.0 Episode number: 111\n",
      "Epochs per episode: 1113 Episode Reward: 345.0 Episode number: 112\n",
      "Epochs per episode: 1217 Episode Reward: 270.0 Episode number: 113\n",
      "Epochs per episode: 658 Episode Reward: 70.0 Episode number: 114\n",
      "Epochs per episode: 582 Episode Reward: 60.0 Episode number: 115\n",
      "Epochs per episode: 709 Episode Reward: 110.0 Episode number: 116\n",
      "Epochs per episode: 656 Episode Reward: 155.0 Episode number: 117\n",
      "Epochs per episode: 361 Episode Reward: 35.0 Episode number: 118\n",
      "Epochs per episode: 804 Episode Reward: 210.0 Episode number: 119\n",
      "Epochs per episode: 663 Episode Reward: 105.0 Episode number: 120\n",
      "Epochs per episode: 753 Episode Reward: 165.0 Episode number: 121\n",
      "Epochs per episode: 505 Episode Reward: 15.0 Episode number: 122\n",
      "Epochs per episode: 696 Episode Reward: 135.0 Episode number: 123\n",
      "Epochs per episode: 807 Episode Reward: 350.0 Episode number: 124\n",
      "Epochs per episode: 590 Episode Reward: 105.0 Episode number: 125\n",
      "Epochs per episode: 702 Episode Reward: 180.0 Episode number: 126\n",
      "Epochs per episode: 795 Episode Reward: 210.0 Episode number: 127\n",
      "Epochs per episode: 928 Episode Reward: 120.0 Episode number: 128\n",
      "Epochs per episode: 751 Episode Reward: 135.0 Episode number: 129\n",
      "Epochs per episode: 1071 Episode Reward: 180.0 Episode number: 130\n",
      "Epochs per episode: 899 Episode Reward: 180.0 Episode number: 131\n",
      "Epochs per episode: 812 Episode Reward: 225.0 Episode number: 132\n",
      "Epochs per episode: 401 Episode Reward: 45.0 Episode number: 133\n",
      "Epochs per episode: 613 Episode Reward: 135.0 Episode number: 134\n",
      "Epochs per episode: 890 Episode Reward: 260.0 Episode number: 135\n",
      "Epochs per episode: 840 Episode Reward: 220.0 Episode number: 136\n",
      "Epochs per episode: 677 Episode Reward: 185.0 Episode number: 137\n",
      "Epochs per episode: 1185 Episode Reward: 375.0 Episode number: 138\n",
      "Epochs per episode: 713 Episode Reward: 210.0 Episode number: 139\n",
      "Epochs per episode: 1137 Episode Reward: 435.0 Episode number: 140\n",
      "Epochs per episode: 555 Episode Reward: 80.0 Episode number: 141\n",
      "Epochs per episode: 658 Episode Reward: 105.0 Episode number: 142\n",
      "Epochs per episode: 1061 Episode Reward: 325.0 Episode number: 143\n",
      "Epochs per episode: 398 Episode Reward: 50.0 Episode number: 144\n",
      "Epochs per episode: 779 Episode Reward: 185.0 Episode number: 145\n",
      "Epochs per episode: 651 Episode Reward: 135.0 Episode number: 146\n",
      "Epochs per episode: 605 Episode Reward: 115.0 Episode number: 147\n",
      "Epochs per episode: 504 Episode Reward: 30.0 Episode number: 148\n",
      "Epochs per episode: 394 Episode Reward: 80.0 Episode number: 149\n",
      "Epochs per episode: 373 Episode Reward: 110.0 Episode number: 150\n",
      "Epochs per episode: 765 Episode Reward: 180.0 Episode number: 151\n",
      "Epochs per episode: 625 Episode Reward: 185.0 Episode number: 152\n",
      "Epochs per episode: 699 Episode Reward: 215.0 Episode number: 153\n",
      "Epochs per episode: 705 Episode Reward: 105.0 Episode number: 154\n",
      "Epochs per episode: 711 Episode Reward: 120.0 Episode number: 155\n",
      "Epochs per episode: 379 Episode Reward: 115.0 Episode number: 156\n",
      "Epochs per episode: 608 Episode Reward: 125.0 Episode number: 157\n",
      "Epochs per episode: 758 Episode Reward: 155.0 Episode number: 158\n",
      "Epochs per episode: 666 Episode Reward: 180.0 Episode number: 159\n",
      "Epochs per episode: 1005 Episode Reward: 285.0 Episode number: 160\n",
      "Epochs per episode: 971 Episode Reward: 180.0 Episode number: 161\n",
      "Epochs per episode: 448 Episode Reward: 35.0 Episode number: 162\n",
      "Epochs per episode: 489 Episode Reward: 65.0 Episode number: 163\n",
      "Epochs per episode: 728 Episode Reward: 180.0 Episode number: 164\n",
      "Epochs per episode: 667 Episode Reward: 110.0 Episode number: 165\n",
      "Epochs per episode: 577 Episode Reward: 85.0 Episode number: 166\n",
      "Epochs per episode: 375 Episode Reward: 85.0 Episode number: 167\n",
      "Epochs per episode: 415 Episode Reward: 75.0 Episode number: 168\n",
      "Epochs per episode: 522 Episode Reward: 120.0 Episode number: 169\n",
      "Epochs per episode: 583 Episode Reward: 85.0 Episode number: 170\n",
      "Epochs per episode: 1086 Episode Reward: 345.0 Episode number: 171\n",
      "Epochs per episode: 500 Episode Reward: 95.0 Episode number: 172\n",
      "Epochs per episode: 1054 Episode Reward: 295.0 Episode number: 173\n",
      "Epochs per episode: 803 Episode Reward: 155.0 Episode number: 174\n",
      "Epochs per episode: 634 Episode Reward: 105.0 Episode number: 175\n",
      "Epochs per episode: 1185 Episode Reward: 605.0 Episode number: 176\n",
      "Epochs per episode: 1057 Episode Reward: 500.0 Episode number: 177\n",
      "Epochs per episode: 622 Episode Reward: 125.0 Episode number: 178\n",
      "Epochs per episode: 836 Episode Reward: 200.0 Episode number: 179\n",
      "Epochs per episode: 618 Episode Reward: 165.0 Episode number: 180\n",
      "Epochs per episode: 656 Episode Reward: 120.0 Episode number: 181\n",
      "Epochs per episode: 550 Episode Reward: 30.0 Episode number: 182\n",
      "Epochs per episode: 752 Episode Reward: 320.0 Episode number: 183\n",
      "Epochs per episode: 698 Episode Reward: 80.0 Episode number: 184\n",
      "Epochs per episode: 713 Episode Reward: 70.0 Episode number: 185\n",
      "Epochs per episode: 674 Episode Reward: 115.0 Episode number: 186\n",
      "Epochs per episode: 653 Episode Reward: 120.0 Episode number: 187\n",
      "Epochs per episode: 743 Episode Reward: 110.0 Episode number: 188\n",
      "Epochs per episode: 565 Episode Reward: 45.0 Episode number: 189\n",
      "Epochs per episode: 981 Episode Reward: 215.0 Episode number: 190\n",
      "Epochs per episode: 850 Episode Reward: 255.0 Episode number: 191\n",
      "Epochs per episode: 693 Episode Reward: 235.0 Episode number: 192\n",
      "Epochs per episode: 928 Episode Reward: 345.0 Episode number: 193\n",
      "Epochs per episode: 397 Episode Reward: 80.0 Episode number: 194\n",
      "Epochs per episode: 648 Episode Reward: 55.0 Episode number: 195\n",
      "Epochs per episode: 392 Episode Reward: 50.0 Episode number: 196\n",
      "Epochs per episode: 777 Episode Reward: 185.0 Episode number: 197\n",
      "Epochs per episode: 869 Episode Reward: 180.0 Episode number: 198\n",
      "Epochs per episode: 972 Episode Reward: 245.0 Episode number: 199\n",
      "Epochs per episode: 1306 Episode Reward: 255.0 Episode number: 200\n"
     ]
    }
   ],
   "source": [
    "with tf.compat.v1.Session() as sess:\n",
    "    init = tf.compat.v1.global_variables_initializer()\n",
    "    init.run()\n",
    "    # من أجل كل دورة\n",
    "    history = []\n",
    "    for i in range(num_episodes):\n",
    "        done = False\n",
    "        obs = env.reset()\n",
    "        epoch = 0\n",
    "        episodic_reward = 0\n",
    "        actions_counter = Counter() \n",
    "        episodic_loss = []\n",
    "        # تكديس الصور في الخطوة الأولى\n",
    "        obs,stacked_frames= stack_frames(stacked_frames,obs,True)\n",
    "        # الدوران طالما لم نصل للحالة النهائية\n",
    "        while not done:\n",
    "            #توليد البيانات باستخدام الشبكة غير المدربة\n",
    "            # إدخال صورة اللعبة والحصول على قيم التعلم\n",
    "            # من أجل كل فعل\n",
    "            actions = mainQ_outputs.eval(feed_dict={X:[obs], in_training_mode:False})\n",
    "            # اختيار  الفعل\n",
    "            action = np.argmax(actions, axis=-1)\n",
    "            actions_counter[str(action)] += 1 \n",
    "            # استخدام سياسة ابسلون الشرهة لاختيار الفعل\n",
    "            action = epsilon_greedy(action, global_step)\n",
    "            # تنفيذ الفعل\n",
    "            # والانتقال للحالة التالية وحساب المكافآة\n",
    "            next_obs, reward, done, _ = env.step(action)\n",
    "            # تكديس مابين الدورات\n",
    "            next_obs, stacked_frames = stack_frames(stacked_frames, next_obs, False)\n",
    "            # تخزين الانتقال كتجربة في\n",
    "            # الذاكرة المؤقتة لإعادة اللعب\n",
    "            exp_buffer.append([obs, action, next_obs, reward, done])\n",
    "            # تدريب الشبكة من الذاكرة المؤقتة لإعادة اللعب بعد عدة خطوات معينة\n",
    "            if global_step % steps_train == 0 and global_step > start_steps:\n",
    "                # تحوي الذاكرة المؤقتة لإعادة اللعب\n",
    "                # كل ما تمت معالجته وتكديسه\n",
    "                # mem[:,0], mem[:,1], mem[:,2], mem[:,3], mem[:,4]\n",
    "                o_obs, o_act, o_next_obs, o_rew, o_done = sample_memories(batch_size)\n",
    "                # الحالات\n",
    "                o_obs = [x for x in o_obs]\n",
    "                # الحالات التالية\n",
    "                o_next_obs = [x for x in o_next_obs]\n",
    "                # الأفعال التالية\n",
    "                next_act = mainQ_outputs.eval(feed_dict={X:o_next_obs, in_training_mode:False})\n",
    "                # المكافآت\n",
    "                y_batch = o_rew + discount_factor * np.max(next_act, axis=-1) * (1-o_done) \n",
    "\n",
    "                train_loss, _ = sess.run([loss, training_op], feed_dict={X:o_obs, y:np.expand_dims(y_batch, axis=-1), X_action:o_act, in_training_mode:True})\n",
    "                episodic_loss.append(train_loss)\n",
    "            \n",
    "            # نسخ أوزان الشبكة الرئيسية إلى الشبكة الهدف\n",
    "            if (global_step+1) % copy_steps == 0 and global_step > start_steps:\n",
    "                copy_target_to_main.run()\n",
    "                \n",
    "            obs = next_obs\n",
    "            epoch += 1\n",
    "            global_step += 1\n",
    "            episodic_reward += reward\n",
    "        next_obs=np.zeros(obs.shape)\n",
    "        exp_buffer.append([obs, action, next_obs, reward, done])\n",
    "        obs= env.reset()\n",
    "        obs,stacked_frames= stack_frames(stacked_frames,obs,True)  \n",
    "        history.append(episodic_reward)\n",
    "        print('Epochs per episode:', epoch, 'Episode Reward:', episodic_reward,\"Episode number:\", len(history))"
   ]
  },
  {
   "cell_type": "code",
   "execution_count": 40,
   "metadata": {
    "colab": {
     "base_uri": "https://localhost:8080/",
     "height": 265
    },
    "colab_type": "code",
    "id": "DAt912GCIJaf",
    "outputId": "178c82f8-a283-408c-f8a5-b1fd83b48bdb"
   },
   "outputs": [
    {
     "data": {
      "image/png": "[encoded data removed]",
      "text/plain": [
       "<Figure size 432x288 with 1 Axes>"
      ]
     },
     "metadata": {
      "needs_background": "light"
     },
     "output_type": "display_data"
    }
   ],
   "source": [
    "plt.plot(history)\n",
    "plt.show()"
   ]
  },
  {
   "cell_type": "markdown",
   "metadata": {
    "colab_type": "text",
    "id": "zA5JMnuSRSb7"
   },
   "source": []
  },
  {
   "cell_type": "code",
   "execution_count": 41,
   "metadata": {
    "colab": {},
    "colab_type": "code",
    "id": "TcKjTnaqISUz"
   },
   "outputs": [],
   "source": [
    "# تسجيل فيديو بهدف التقييم\n",
    "gymlogger.set_level(40) #error only\n",
    "def show_video():\n",
    "  mp4list = glob.glob('video/*.mp4')\n",
    "  if len(mp4list) > 0:\n",
    "    mp4 = mp4list[0]\n",
    "    video = io.open(mp4, 'r+b').read()\n",
    "    encoded = base64.b64encode(video)\n",
    "    ipythondisplay.display(HTML(data='''<video alt=\"test\" autoplay \n",
    "                loop controls style=\"height: 400px;\">\n",
    "                <source src=\"data:video/mp4;base64,{0}\" type=\"video/mp4\" />\n",
    "             </video>'''.format(encoded.decode('ascii'))))\n",
    "  else: \n",
    "    print(\"Could not find video\")\n",
    "def wrap_env(env):\n",
    "  env = Monitor(env, './video', force=True)\n",
    "  return env\n",
    "\n",
    "# تقييم النموذج\n",
    "environment = wrap_env(gym.make('SpaceInvaders-v0'))\n",
    "done = False\n",
    "observation = environment.reset()\n",
    "new_observation = observation\n",
    "prev_input = None\n",
    "with tf.compat.v1.Session() as sess:\n",
    "    init.run()\n",
    "    observation, stacked_frames = stack_frames(stacked_frames, observation, True)\n",
    "    while True:\n",
    "        # الحصول على قيم التعلم\n",
    "        actions = mainQ_outputs.eval(feed_dict={X:[observation], in_training_mode:False})\n",
    "        # الحصول على الفعل\n",
    "        action = np.argmax(actions, axis=-1)\n",
    "        actions_counter[str(action)] += 1 \n",
    "        # اختيار الفعل باستخدام سياسة إبسلون الشرهة\n",
    "        action = epsilon_greedy(action, global_step)\n",
    "        environment.render()\n",
    "        new_observation, stacked_frames = stack_frames(stacked_frames, new_observation, False)   \n",
    "        observation = new_observation        \n",
    "        # تنفيذ الفعل والانتقال للخطوة التالية\n",
    "        new_observation, reward, done, _ = environment.step(action)\n",
    "        if done: \n",
    "          break\n",
    "    environment.close()"
   ]
  }
 ],
 "metadata": {
  "accelerator": "GPU",
  "colab": {
   "collapsed_sections": [],
   "name": "TF2_SpaceInvaders_GC.ipynb",
   "provenance": []
  },
  "kernelspec": {
   "display_name": "Python 3 (ipykernel)",
   "language": "python",
   "name": "python3"
  },
  "language_info": {
   "codemirror_mode": {
    "name": "ipython",
    "version": 3
   },
   "file_extension": ".py",
   "mimetype": "text/x-python",
   "name": "python",
   "nbconvert_exporter": "python",
   "pygments_lexer": "ipython3",
   "version": "3.8.10"
  }
 },
 "nbformat": 4,
 "nbformat_minor": 1
}
